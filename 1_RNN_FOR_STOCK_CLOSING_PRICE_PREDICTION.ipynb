{
 "cells": [
  {
   "cell_type": "markdown",
   "metadata": {},
   "source": [
    "## Recurrent Neural Network\n",
    "\n",
    "Download any stock price data from https://www.nasdaq.com/market-activity/stocks/goog/historical\n",
    "For this notebook, I have downloaed 1 year of google stock data\n"
   ]
  },
  {
   "cell_type": "code",
   "execution_count": 17,
   "metadata": {},
   "outputs": [
    {
     "data": {
      "text/html": [
       "<div>\n",
       "<style scoped>\n",
       "    .dataframe tbody tr th:only-of-type {\n",
       "        vertical-align: middle;\n",
       "    }\n",
       "\n",
       "    .dataframe tbody tr th {\n",
       "        vertical-align: top;\n",
       "    }\n",
       "\n",
       "    .dataframe thead th {\n",
       "        text-align: right;\n",
       "    }\n",
       "</style>\n",
       "<table border=\"1\" class=\"dataframe\">\n",
       "  <thead>\n",
       "    <tr style=\"text-align: right;\">\n",
       "      <th></th>\n",
       "      <th>date</th>\n",
       "      <th>close</th>\n",
       "      <th>volume</th>\n",
       "      <th>open</th>\n",
       "      <th>high</th>\n",
       "      <th>low</th>\n",
       "    </tr>\n",
       "  </thead>\n",
       "  <tbody>\n",
       "    <tr>\n",
       "      <th>0</th>\n",
       "      <td>03/09/2020</td>\n",
       "      <td>$1215.56</td>\n",
       "      <td>3365365</td>\n",
       "      <td>$1205.3</td>\n",
       "      <td>$1254.7599</td>\n",
       "      <td>$1200</td>\n",
       "    </tr>\n",
       "    <tr>\n",
       "      <th>1</th>\n",
       "      <td>03/06/2020</td>\n",
       "      <td>$1298.41</td>\n",
       "      <td>2660628</td>\n",
       "      <td>$1277.06</td>\n",
       "      <td>$1306.22</td>\n",
       "      <td>$1261.05</td>\n",
       "    </tr>\n",
       "    <tr>\n",
       "      <th>2</th>\n",
       "      <td>03/05/2020</td>\n",
       "      <td>$1319.04</td>\n",
       "      <td>2561288</td>\n",
       "      <td>$1350.2</td>\n",
       "      <td>$1358.91</td>\n",
       "      <td>$1305.1</td>\n",
       "    </tr>\n",
       "    <tr>\n",
       "      <th>3</th>\n",
       "      <td>03/04/2020</td>\n",
       "      <td>$1386.52</td>\n",
       "      <td>1913315</td>\n",
       "      <td>$1359.23</td>\n",
       "      <td>$1388.09</td>\n",
       "      <td>$1343.11</td>\n",
       "    </tr>\n",
       "    <tr>\n",
       "      <th>4</th>\n",
       "      <td>03/03/2020</td>\n",
       "      <td>$1341.39</td>\n",
       "      <td>2402326</td>\n",
       "      <td>$1399.42</td>\n",
       "      <td>$1410.15</td>\n",
       "      <td>$1332</td>\n",
       "    </tr>\n",
       "  </tbody>\n",
       "</table>\n",
       "</div>"
      ],
      "text/plain": [
       "         date      close   volume       open         high        low\n",
       "0  03/09/2020   $1215.56  3365365    $1205.3   $1254.7599      $1200\n",
       "1  03/06/2020   $1298.41  2660628   $1277.06     $1306.22   $1261.05\n",
       "2  03/05/2020   $1319.04  2561288    $1350.2     $1358.91    $1305.1\n",
       "3  03/04/2020   $1386.52  1913315   $1359.23     $1388.09   $1343.11\n",
       "4  03/03/2020   $1341.39  2402326   $1399.42     $1410.15      $1332"
      ]
     },
     "execution_count": 17,
     "metadata": {},
     "output_type": "execute_result"
    }
   ],
   "source": [
    "import pandas as pd\n",
    "import numpy as np \n",
    "\n",
    "data = pd.read_csv('./data/HistoricalQuotes.csv')\n",
    "data.columns = ['date', 'close', 'volume', 'open', 'high', 'low']\n",
    "data.head()"
   ]
  },
  {
   "cell_type": "code",
   "execution_count": 18,
   "metadata": {},
   "outputs": [
    {
     "name": "stdout",
     "output_type": "stream",
     "text": [
      "<class 'pandas.core.frame.DataFrame'>\n",
      "RangeIndex: 252 entries, 0 to 251\n",
      "Data columns (total 6 columns):\n",
      " #   Column  Non-Null Count  Dtype \n",
      "---  ------  --------------  ----- \n",
      " 0   date    252 non-null    object\n",
      " 1   close   252 non-null    object\n",
      " 2   volume  252 non-null    int64 \n",
      " 3   open    252 non-null    object\n",
      " 4   high    252 non-null    object\n",
      " 5   low     252 non-null    object\n",
      "dtypes: int64(1), object(5)\n",
      "memory usage: 11.9+ KB\n"
     ]
    }
   ],
   "source": [
    "data.info()"
   ]
  },
  {
   "cell_type": "code",
   "execution_count": 19,
   "metadata": {},
   "outputs": [
    {
     "data": {
      "text/html": [
       "<div>\n",
       "<style scoped>\n",
       "    .dataframe tbody tr th:only-of-type {\n",
       "        vertical-align: middle;\n",
       "    }\n",
       "\n",
       "    .dataframe tbody tr th {\n",
       "        vertical-align: top;\n",
       "    }\n",
       "\n",
       "    .dataframe thead th {\n",
       "        text-align: right;\n",
       "    }\n",
       "</style>\n",
       "<table border=\"1\" class=\"dataframe\">\n",
       "  <thead>\n",
       "    <tr style=\"text-align: right;\">\n",
       "      <th></th>\n",
       "      <th>date</th>\n",
       "      <th>close</th>\n",
       "      <th>volume</th>\n",
       "      <th>open</th>\n",
       "      <th>high</th>\n",
       "      <th>low</th>\n",
       "    </tr>\n",
       "  </thead>\n",
       "  <tbody>\n",
       "    <tr>\n",
       "      <th>0</th>\n",
       "      <td>2020-03-09</td>\n",
       "      <td>1215.56</td>\n",
       "      <td>3365365</td>\n",
       "      <td>1205.30</td>\n",
       "      <td>1254.7599</td>\n",
       "      <td>1200.00</td>\n",
       "    </tr>\n",
       "    <tr>\n",
       "      <th>1</th>\n",
       "      <td>2020-03-06</td>\n",
       "      <td>1298.41</td>\n",
       "      <td>2660628</td>\n",
       "      <td>1277.06</td>\n",
       "      <td>1306.2200</td>\n",
       "      <td>1261.05</td>\n",
       "    </tr>\n",
       "    <tr>\n",
       "      <th>2</th>\n",
       "      <td>2020-03-05</td>\n",
       "      <td>1319.04</td>\n",
       "      <td>2561288</td>\n",
       "      <td>1350.20</td>\n",
       "      <td>1358.9100</td>\n",
       "      <td>1305.10</td>\n",
       "    </tr>\n",
       "    <tr>\n",
       "      <th>3</th>\n",
       "      <td>2020-03-04</td>\n",
       "      <td>1386.52</td>\n",
       "      <td>1913315</td>\n",
       "      <td>1359.23</td>\n",
       "      <td>1388.0900</td>\n",
       "      <td>1343.11</td>\n",
       "    </tr>\n",
       "    <tr>\n",
       "      <th>4</th>\n",
       "      <td>2020-03-03</td>\n",
       "      <td>1341.39</td>\n",
       "      <td>2402326</td>\n",
       "      <td>1399.42</td>\n",
       "      <td>1410.1500</td>\n",
       "      <td>1332.00</td>\n",
       "    </tr>\n",
       "  </tbody>\n",
       "</table>\n",
       "</div>"
      ],
      "text/plain": [
       "        date    close   volume     open       high      low\n",
       "0 2020-03-09  1215.56  3365365  1205.30  1254.7599  1200.00\n",
       "1 2020-03-06  1298.41  2660628  1277.06  1306.2200  1261.05\n",
       "2 2020-03-05  1319.04  2561288  1350.20  1358.9100  1305.10\n",
       "3 2020-03-04  1386.52  1913315  1359.23  1388.0900  1343.11\n",
       "4 2020-03-03  1341.39  2402326  1399.42  1410.1500  1332.00"
      ]
     },
     "execution_count": 19,
     "metadata": {},
     "output_type": "execute_result"
    }
   ],
   "source": [
    "# Change date to datetime\n",
    "data.date = pd.to_datetime(data.date)\n",
    "\n",
    "# Handle the $ value in columns\n",
    "currency_cols = ['close','high','open','low']\n",
    "data[currency_cols] = data[currency_cols].apply(lambda x: x.str.replace('$','')).\\\n",
    "                apply(lambda x: x.str.replace(',','')).astype(np.float)\n",
    "\n",
    "# volume column\n",
    "data.volume = pd.to_numeric(data.volume)\n",
    "\n",
    "data.head()"
   ]
  },
  {
   "cell_type": "code",
   "execution_count": 42,
   "metadata": {},
   "outputs": [
    {
     "data": {
      "text/html": [
       "<div>\n",
       "<style scoped>\n",
       "    .dataframe tbody tr th:only-of-type {\n",
       "        vertical-align: middle;\n",
       "    }\n",
       "\n",
       "    .dataframe tbody tr th {\n",
       "        vertical-align: top;\n",
       "    }\n",
       "\n",
       "    .dataframe thead th {\n",
       "        text-align: right;\n",
       "    }\n",
       "</style>\n",
       "<table border=\"1\" class=\"dataframe\">\n",
       "  <thead>\n",
       "    <tr style=\"text-align: right;\">\n",
       "      <th></th>\n",
       "      <th>close</th>\n",
       "      <th>volume</th>\n",
       "      <th>open</th>\n",
       "      <th>high</th>\n",
       "      <th>low</th>\n",
       "    </tr>\n",
       "  </thead>\n",
       "  <tbody>\n",
       "    <tr>\n",
       "      <th>count</th>\n",
       "      <td>252.000000</td>\n",
       "      <td>2.520000e+02</td>\n",
       "      <td>252.000000</td>\n",
       "      <td>252.000000</td>\n",
       "      <td>252.000000</td>\n",
       "    </tr>\n",
       "    <tr>\n",
       "      <th>mean</th>\n",
       "      <td>1249.327222</td>\n",
       "      <td>1.489360e+06</td>\n",
       "      <td>1247.954385</td>\n",
       "      <td>1258.647470</td>\n",
       "      <td>1238.697376</td>\n",
       "    </tr>\n",
       "    <tr>\n",
       "      <th>std</th>\n",
       "      <td>114.765573</td>\n",
       "      <td>6.897266e+05</td>\n",
       "      <td>114.297763</td>\n",
       "      <td>115.373106</td>\n",
       "      <td>113.631584</td>\n",
       "    </tr>\n",
       "    <tr>\n",
       "      <th>min</th>\n",
       "      <td>1036.230000</td>\n",
       "      <td>3.475180e+05</td>\n",
       "      <td>1042.900000</td>\n",
       "      <td>1047.490000</td>\n",
       "      <td>1025.000000</td>\n",
       "    </tr>\n",
       "    <tr>\n",
       "      <th>25%</th>\n",
       "      <td>1168.790000</td>\n",
       "      <td>1.088108e+06</td>\n",
       "      <td>1171.105000</td>\n",
       "      <td>1180.355725</td>\n",
       "      <td>1160.407500</td>\n",
       "    </tr>\n",
       "    <tr>\n",
       "      <th>50%</th>\n",
       "      <td>1219.585000</td>\n",
       "      <td>1.324190e+06</td>\n",
       "      <td>1219.700000</td>\n",
       "      <td>1231.510000</td>\n",
       "      <td>1210.385000</td>\n",
       "    </tr>\n",
       "    <tr>\n",
       "      <th>75%</th>\n",
       "      <td>1319.415000</td>\n",
       "      <td>1.654379e+06</td>\n",
       "      <td>1321.130000</td>\n",
       "      <td>1330.738425</td>\n",
       "      <td>1310.422500</td>\n",
       "    </tr>\n",
       "    <tr>\n",
       "      <th>max</th>\n",
       "      <td>1526.690000</td>\n",
       "      <td>6.194691e+06</td>\n",
       "      <td>1525.070000</td>\n",
       "      <td>1532.106300</td>\n",
       "      <td>1521.400000</td>\n",
       "    </tr>\n",
       "  </tbody>\n",
       "</table>\n",
       "</div>"
      ],
      "text/plain": [
       "             close        volume         open         high          low\n",
       "count   252.000000  2.520000e+02   252.000000   252.000000   252.000000\n",
       "mean   1249.327222  1.489360e+06  1247.954385  1258.647470  1238.697376\n",
       "std     114.765573  6.897266e+05   114.297763   115.373106   113.631584\n",
       "min    1036.230000  3.475180e+05  1042.900000  1047.490000  1025.000000\n",
       "25%    1168.790000  1.088108e+06  1171.105000  1180.355725  1160.407500\n",
       "50%    1219.585000  1.324190e+06  1219.700000  1231.510000  1210.385000\n",
       "75%    1319.415000  1.654379e+06  1321.130000  1330.738425  1310.422500\n",
       "max    1526.690000  6.194691e+06  1525.070000  1532.106300  1521.400000"
      ]
     },
     "execution_count": 42,
     "metadata": {},
     "output_type": "execute_result"
    }
   ],
   "source": [
    "# Usefull columns\n",
    "use_cols = ['close','volume','open','high','low']\n",
    "use_data = data[use_cols]\n",
    "use_data.describe()"
   ]
  },
  {
   "cell_type": "code",
   "execution_count": 43,
   "metadata": {},
   "outputs": [],
   "source": [
    "# Normalize the data\n",
    "from sklearn.compose import ColumnTransformer\n",
    "from sklearn.preprocessing import RobustScaler\n",
    "\n",
    "columnTransformer = ColumnTransformer([\n",
    "                                       ('close_scaled', RobustScaler(), ['close']),\n",
    "                                        ('volume_scaled', RobustScaler(),['volume']),\n",
    "                                       ('open_scaled', RobustScaler(), ['open']),\n",
    "                                       ('high_scaled', RobustScaler(), ['high']),\n",
    "                                       ('low_scaled', RobustScaler(), ['low']),\n",
    "                                      ], remainder='drop')\n",
    "\n",
    "use_data = pd.DataFrame(columnTransformer.fit_transform(use_data))\n",
    "use_data.columns = ['close','volume','open','high','low']"
   ]
  },
  {
   "cell_type": "code",
   "execution_count": 44,
   "metadata": {},
   "outputs": [
    {
     "data": {
      "text/html": [
       "<div>\n",
       "<style scoped>\n",
       "    .dataframe tbody tr th:only-of-type {\n",
       "        vertical-align: middle;\n",
       "    }\n",
       "\n",
       "    .dataframe tbody tr th {\n",
       "        vertical-align: top;\n",
       "    }\n",
       "\n",
       "    .dataframe thead th {\n",
       "        text-align: right;\n",
       "    }\n",
       "</style>\n",
       "<table border=\"1\" class=\"dataframe\">\n",
       "  <thead>\n",
       "    <tr style=\"text-align: right;\">\n",
       "      <th></th>\n",
       "      <th>close</th>\n",
       "      <th>volume</th>\n",
       "      <th>open</th>\n",
       "      <th>high</th>\n",
       "      <th>low</th>\n",
       "    </tr>\n",
       "  </thead>\n",
       "  <tbody>\n",
       "    <tr>\n",
       "      <th>0</th>\n",
       "      <td>-0.026722</td>\n",
       "      <td>3.604594</td>\n",
       "      <td>-0.095984</td>\n",
       "      <td>0.154605</td>\n",
       "      <td>-0.069226</td>\n",
       "    </tr>\n",
       "    <tr>\n",
       "      <th>1</th>\n",
       "      <td>0.523320</td>\n",
       "      <td>2.360071</td>\n",
       "      <td>0.382336</td>\n",
       "      <td>0.496799</td>\n",
       "      <td>0.337733</td>\n",
       "    </tr>\n",
       "    <tr>\n",
       "      <th>2</th>\n",
       "      <td>0.660282</td>\n",
       "      <td>2.184642</td>\n",
       "      <td>0.869855</td>\n",
       "      <td>0.847172</td>\n",
       "      <td>0.631370</td>\n",
       "    </tr>\n",
       "    <tr>\n",
       "      <th>3</th>\n",
       "      <td>1.108282</td>\n",
       "      <td>1.040361</td>\n",
       "      <td>0.930045</td>\n",
       "      <td>1.041210</td>\n",
       "      <td>0.884745</td>\n",
       "    </tr>\n",
       "    <tr>\n",
       "      <th>4</th>\n",
       "      <td>0.808664</td>\n",
       "      <td>1.903925</td>\n",
       "      <td>1.197934</td>\n",
       "      <td>1.187903</td>\n",
       "      <td>0.810686</td>\n",
       "    </tr>\n",
       "  </tbody>\n",
       "</table>\n",
       "</div>"
      ],
      "text/plain": [
       "      close    volume      open      high       low\n",
       "0 -0.026722  3.604594 -0.095984  0.154605 -0.069226\n",
       "1  0.523320  2.360071  0.382336  0.496799  0.337733\n",
       "2  0.660282  2.184642  0.869855  0.847172  0.631370\n",
       "3  1.108282  1.040361  0.930045  1.041210  0.884745\n",
       "4  0.808664  1.903925  1.197934  1.187903  0.810686"
      ]
     },
     "execution_count": 44,
     "metadata": {},
     "output_type": "execute_result"
    }
   ],
   "source": [
    "use_data.head()"
   ]
  },
  {
   "cell_type": "code",
   "execution_count": 77,
   "metadata": {},
   "outputs": [],
   "source": [
    "# Feature columns\n",
    "feature_cols = ['close','volume','open','high','low']\n",
    "# \n",
    "label_col = ['close']\n",
    "\n"
   ]
  },
  {
   "cell_type": "code",
   "execution_count": 78,
   "metadata": {},
   "outputs": [
    {
     "data": {
      "text/plain": [
       "[[-0.026721991701245416,\n",
       "  3.6045944473533407,\n",
       "  -0.09598400266622284,\n",
       "  0.1546048847374067,\n",
       "  -0.069226410692264],\n",
       " [0.5233195020746891,\n",
       "  2.3600708495321583,\n",
       "  0.3823362772871179,\n",
       "  0.49679916639347466,\n",
       "  0.3377328933773285]]"
      ]
     },
     "execution_count": 78,
     "metadata": {},
     "output_type": "execute_result"
    }
   ],
   "source": [
    "use_data.loc[range(0,2),feature_cols].values.tolist()"
   ]
  },
  {
   "cell_type": "markdown",
   "metadata": {},
   "source": [
    "## Prediction Problem\n",
    "\n",
    "Using the last 30 days including the current date, we want to predict the closing stock price for the next 7 days"
   ]
  },
  {
   "cell_type": "code",
   "execution_count": 79,
   "metadata": {},
   "outputs": [
    {
     "name": "stdout",
     "output_type": "stream",
     "text": [
      "Data shape (220, 25, 5)\n",
      "Label Shape (220, 7, 1)\n"
     ]
    }
   ],
   "source": [
    "history_size = 25\n",
    "target_size = 7\n",
    "\n",
    "start_index = history_size\n",
    "end_index = len(use_data) - target_size\n",
    "\n",
    "data = []\n",
    "labels = []\n",
    "\n",
    "for i in range(start_index, end_index):\n",
    "    data_indices = range(i - history_size, i, 1)\n",
    "    data.append(use_data.loc[data_indices, feature_cols].values.tolist())\n",
    "    label_indices = range(i, i + target_size)\n",
    "    labels.append(use_data.loc[label_indices, label_col].values.tolist())\n",
    "\n",
    "\n",
    "\n",
    "data = np.array(data)\n",
    "labels = np.array(labels)\n",
    "\n",
    "print(\"Data shape {}\".format(data.shape))\n",
    "print(\"Label Shape {}\".format(labels.shape))\n"
   ]
  },
  {
   "cell_type": "code",
   "execution_count": 108,
   "metadata": {},
   "outputs": [
    {
     "data": {
      "image/png": "[encoded data removed]",
      "text/plain": [
       "<Figure size 1440x720 with 1 Axes>"
      ]
     },
     "metadata": {
      "needs_background": "light"
     },
     "output_type": "display_data"
    }
   ],
   "source": [
    "%matplotlib inline\n",
    "import matplotlib.pyplot as plt\n",
    "\n",
    "plt.rcParams[\"figure.figsize\"] = (20,10)\n",
    "\n",
    "day = 200\n",
    "plt.plot(range(0, 25), data[day][:,0], 'k-', label = 'Historical Close (last 25 days)')\n",
    "plt.plot(range(24, 32), np.concatenate([ [data[day][24,0]], np.squeeze(labels[day])]), 'g-', label = 'To be predicted (next 7 days)')\n",
    "plt.axvline(x=24, c = 'r')\n",
    "plt.plot(24, data[day][24,0], 'rx', markersize = 20, label = \"Today\")\n",
    "plt.xticks(range(0, 37), range(-24, 8))\n",
    "plt.title('Training data with labels')\n",
    "plt.xlabel('Days')\n",
    "plt.ylabel('Google Stock Close price Normalized')\n",
    "plt.legend()\n",
    "plt.show()"
   ]
  },
  {
   "cell_type": "code",
   "execution_count": 155,
   "metadata": {},
   "outputs": [
    {
     "name": "stdout",
     "output_type": "stream",
     "text": [
      "X shape (200, 25, 5)\n",
      "y shape (200, 7, 1)\n"
     ]
    }
   ],
   "source": [
    "# Train test split\n",
    "X_train = data[0:200]\n",
    "X_valid = data[200:210]\n",
    "X_test = data[210:]\n",
    "\n",
    "print(\"X shape {}\".format(X_train.shape))\n",
    "\n",
    "y_train = labels[0:200]\n",
    "y_valid = labels[200:210]\n",
    "y_test = labels[210:]\n",
    "\n",
    "print(\"y shape {}\".format(y_train.shape))\n",
    "\n"
   ]
  },
  {
   "cell_type": "code",
   "execution_count": 140,
   "metadata": {},
   "outputs": [
    {
     "name": "stdout",
     "output_type": "stream",
     "text": [
      "Model: \"sequential_6\"\n",
      "_________________________________________________________________\n",
      "Layer (type)                 Output Shape              Param #   \n",
      "=================================================================\n",
      "simple_rnn_9 (SimpleRNN)     (None, 25, 24)            720       \n",
      "_________________________________________________________________\n",
      "simple_rnn_10 (SimpleRNN)    (None, 12)                444       \n",
      "_________________________________________________________________\n",
      "dense_6 (Dense)              (None, 7)                 91        \n",
      "=================================================================\n",
      "Total params: 1,255\n",
      "Trainable params: 1,255\n",
      "Non-trainable params: 0\n",
      "_________________________________________________________________\n"
     ]
    }
   ],
   "source": [
    "## Model Building Function\n",
    "\n",
    "import tensorflow as tf\n",
    "from tensorflow import keras\n",
    "\n",
    "def make_model(learning_rate):\n",
    "    model = keras.models.Sequential([\n",
    "        keras.layers.SimpleRNN(24, input_shape = (25,5), return_sequences = True ),\n",
    "        keras.layers.SimpleRNN(12),\n",
    "\n",
    "\n",
    "        keras.layers.Dense(7, activation='linear')\n",
    "    ])\n",
    "    model.compile(optimizer=keras.optimizers.Adam(lr=learning_rate),\n",
    "                 loss=keras.losses.MeanSquaredError(),\n",
    "                 metrics=[keras.metrics.MeanAbsoluteError(name='mae')])\n",
    "    return model\n",
    "\n",
    "\n",
    "base_model = make_model(3e-4)\n",
    "base_model.summary()\n",
    "    \n",
    "    "
   ]
  },
  {
   "cell_type": "code",
   "execution_count": 141,
   "metadata": {},
   "outputs": [
    {
     "name": "stdout",
     "output_type": "stream",
     "text": [
      "Predictions output shape (5, 7)\n"
     ]
    },
    {
     "data": {
      "text/plain": [
       "array([[-3.15186262e-01, -1.47983050e+00, -1.12257218e+00,\n",
       "        -1.97999075e-01,  1.97958946e-03, -1.16632915e+00,\n",
       "         2.03163576e+00],\n",
       "       [-2.47014165e-01, -1.48327780e+00, -7.27626026e-01,\n",
       "        -2.40097612e-01, -1.33600235e-02, -1.12127924e+00,\n",
       "         1.90332353e+00],\n",
       "       [-3.31801057e-01, -1.22570181e+00, -1.88412026e-01,\n",
       "        -8.22094798e-01, -4.21522349e-01, -9.23003674e-01,\n",
       "         1.33115613e+00],\n",
       "       [-2.43491024e-01, -8.54668677e-01,  2.58712828e-01,\n",
       "        -1.06844354e+00, -2.98608631e-01, -6.57446235e-02,\n",
       "         5.86021900e-01],\n",
       "       [ 1.01859570e-02, -5.36465168e-01, -2.26117581e-01,\n",
       "        -9.88587379e-01, -3.00856978e-01,  2.76331663e-01,\n",
       "         5.25594831e-01]], dtype=float32)"
      ]
     },
     "execution_count": 141,
     "metadata": {},
     "output_type": "execute_result"
    }
   ],
   "source": [
    "# Single Forward Probagation\n",
    "\n",
    "base_predictions = base_model.predict(X_train[0:5])\n",
    "print(\"Predictions output shape {}\".format(base_predictions.shape))\n",
    "base_predictions"
   ]
  },
  {
   "cell_type": "code",
   "execution_count": 142,
   "metadata": {},
   "outputs": [
    {
     "name": "stdout",
     "output_type": "stream",
     "text": [
      "Training Loss: 1.2539\n"
     ]
    }
   ],
   "source": [
    "results = base_model.evaluate(X_train, y_train, batch_size=BATCH_SIZE, verbose=0)\n",
    "print(\"Training Loss: {:0.4f}\".format(results[0]))\n",
    "\n"
   ]
  },
  {
   "cell_type": "code",
   "execution_count": null,
   "metadata": {},
   "outputs": [],
   "source": [
    "initial_weights = os.path.join(tempfile.mkdtemp(),'initial_weights')\n",
    "base_model.save_weights(initial_weights)"
   ]
  },
  {
   "cell_type": "code",
   "execution_count": 186,
   "metadata": {},
   "outputs": [],
   "source": [
    "import os\n",
    "import tempfile\n",
    "\n",
    "BATCH_SIZE = 4\n",
    "EPOCHS = 150\n",
    "LEARNING_RATE =1e-7\n",
    "\n",
    "early_stopping = tf.keras.callbacks.EarlyStopping(\n",
    "    monitor='val_mae', \n",
    "    verbose=1,\n",
    "    patience=10,\n",
    "    mode='auto',\n",
    "    restore_best_weights=True)\n",
    "\n",
    "\n",
    "# This function keeps the learning rate at LEARNING_RATE for the first ten epochs\n",
    "# and decreases it exponentially after that.\n",
    "def scheduler(epoch):\n",
    "  if epoch < 2:\n",
    "    return LEARNING_RATE\n",
    "  else:\n",
    "    return 0.001 * tf.math.exp(0.1 * (10 - epoch))\n",
    "\n",
    "lrscheduler = tf.keras.callbacks.LearningRateScheduler(scheduler)\n"
   ]
  },
  {
   "cell_type": "code",
   "execution_count": 187,
   "metadata": {},
   "outputs": [
    {
     "name": "stdout",
     "output_type": "stream",
     "text": [
      "Train on 200 samples, validate on 10 samples\n",
      "Epoch 1/150\n",
      "200/200 [==============================] - 1s 6ms/sample - loss: 0.0582 - mae: 0.1779 - val_loss: 0.0077 - val_mae: 0.0669\n",
      "Epoch 2/150\n",
      "200/200 [==============================] - 0s 2ms/sample - loss: 0.0582 - mae: 0.1778 - val_loss: 0.0077 - val_mae: 0.0669\n",
      "Epoch 3/150\n",
      "200/200 [==============================] - 0s 2ms/sample - loss: 0.0481 - mae: 0.1664 - val_loss: 0.0253 - val_mae: 0.1250\n",
      "Epoch 4/150\n",
      "200/200 [==============================] - 0s 2ms/sample - loss: 0.0440 - mae: 0.1592 - val_loss: 0.0186 - val_mae: 0.1038\n",
      "Epoch 5/150\n",
      "200/200 [==============================] - 0s 2ms/sample - loss: 0.0383 - mae: 0.1490 - val_loss: 0.0216 - val_mae: 0.1206\n",
      "Epoch 6/150\n",
      "200/200 [==============================] - 0s 2ms/sample - loss: 0.0415 - mae: 0.1521 - val_loss: 0.0104 - val_mae: 0.0797\n",
      "Epoch 7/150\n",
      "200/200 [==============================] - 0s 2ms/sample - loss: 0.0363 - mae: 0.1409 - val_loss: 0.0096 - val_mae: 0.0807\n",
      "Epoch 8/150\n",
      "200/200 [==============================] - 0s 2ms/sample - loss: 0.0357 - mae: 0.1401 - val_loss: 0.0100 - val_mae: 0.0807\n",
      "Epoch 9/150\n",
      "200/200 [==============================] - 0s 2ms/sample - loss: 0.0349 - mae: 0.1387 - val_loss: 0.0100 - val_mae: 0.0764\n",
      "Epoch 10/150\n",
      "200/200 [==============================] - 0s 2ms/sample - loss: 0.0338 - mae: 0.1384 - val_loss: 0.0095 - val_mae: 0.0758\n",
      "Epoch 11/150\n",
      "172/200 [========================>.....] - ETA: 0s - loss: 0.0334 - mae: 0.1359Restoring model weights from the end of the best epoch.\n",
      "200/200 [==============================] - 0s 2ms/sample - loss: 0.0328 - mae: 0.1347 - val_loss: 0.0090 - val_mae: 0.0747\n",
      "Epoch 00011: early stopping\n"
     ]
    }
   ],
   "source": [
    "model = make_model(LEARNING_RATE)\n",
    "model.load_weights(run_weights)\n",
    "first_run_history = model.fit(\n",
    "    X_train,\n",
    "    y_train,\n",
    "    batch_size=BATCH_SIZE,\n",
    "    epochs=EPOCHS,\n",
    "    validation_data=(X_valid, y_valid), \n",
    "    callbacks =[early_stopping, lrscheduler],\n",
    "    verbose=1)\n"
   ]
  },
  {
   "cell_type": "code",
   "execution_count": 188,
   "metadata": {},
   "outputs": [
    {
     "name": "stdout",
     "output_type": "stream",
     "text": [
      "Training Loss: 0.0582\n",
      "Validation Loss: 0.0077\n",
      "Test Loss: 0.0239\n"
     ]
    }
   ],
   "source": [
    "results = model.evaluate(X_train, y_train, batch_size=BATCH_SIZE, verbose=0)\n",
    "print(\"Training Loss: {:0.4f}\".format(results[0]))\n",
    "\n",
    "results = model.evaluate(X_valid, y_valid, batch_size=BATCH_SIZE, verbose=0)\n",
    "print(\"Validation Loss: {:0.4f}\".format(results[0]))\n",
    "\n",
    "\n",
    "\n",
    "results = model.evaluate(X_test, y_test, batch_size=BATCH_SIZE, verbose=0)\n",
    "print(\"Test Loss: {:0.4f}\".format(results[0]))\n",
    "\n",
    "\n"
   ]
  },
  {
   "cell_type": "code",
   "execution_count": 189,
   "metadata": {},
   "outputs": [],
   "source": [
    "import uuid \n",
    "run_id = uuid.uuid1()\n",
    "run_weights = os.path.join(tempfile.mkdtemp(),str(run_id))\n",
    "model.save_weights(run_weights)"
   ]
  },
  {
   "cell_type": "code",
   "execution_count": 190,
   "metadata": {},
   "outputs": [
    {
     "data": {
      "image/png": "[encoded data removed]",
      "text/plain": [
       "<Figure size 864x720 with 1 Axes>"
      ]
     },
     "metadata": {
      "needs_background": "light"
     },
     "output_type": "display_data"
    }
   ],
   "source": [
    "%matplotlib inline\n",
    "import matplotlib.pyplot as plt\n",
    "import matplotlib as mpl\n",
    "\n",
    "mpl.rcParams['figure.figsize'] = (12, 10)\n",
    "colors = plt.rcParams['axes.prop_cycle'].by_key()['color']\n",
    "\n",
    "\n",
    "def plot_loss(history, label, n):\n",
    "  # Use a log scale to show the wide range of values.\n",
    "  plt.semilogy(history.epoch,  history.history['loss'],\n",
    "               color=colors[n], label='Train '+label)\n",
    "  plt.semilogy(history.epoch,  history.history['val_loss'],\n",
    "          color=colors[n], label='Val '+label,\n",
    "          linestyle=\"--\")\n",
    "  plt.xlabel('Epoch')\n",
    "  plt.ylabel('Loss')\n",
    "  \n",
    "  plt.legend()\n",
    "\n",
    "plot_loss(first_run_history, 'First Run History',1)"
   ]
  },
  {
   "cell_type": "code",
   "execution_count": 201,
   "metadata": {},
   "outputs": [
    {
     "data": {
      "text/plain": [
       "(10, 7)"
      ]
     },
     "execution_count": 201,
     "metadata": {},
     "output_type": "execute_result"
    }
   ],
   "source": [
    "## prediction vs actual\n",
    "\n",
    "predictions = model.predict(X_test)\n",
    "predictions.shape\n"
   ]
  },
  {
   "cell_type": "code",
   "execution_count": 202,
   "metadata": {},
   "outputs": [
    {
     "data": {
      "image/png": "[encoded data removed]",
      "text/plain": [
       "<Figure size 1440x720 with 1 Axes>"
      ]
     },
     "metadata": {
      "needs_background": "light"
     },
     "output_type": "display_data"
    }
   ],
   "source": [
    "plt.rcParams[\"figure.figsize\"] = (20,10)\n",
    "\n",
    "day = 3\n",
    "plt.plot(range(0, 25), X_test[day][:,0], 'k-', label = 'Test data Close (last 25 days)')\n",
    "plt.plot(range(24, 32), np.concatenate([ [X_test[day][24,0]], np.squeeze(y_test[day])]), 'g-', label = 'To be predicted (next 7 days)')\n",
    "plt.plot(range(24, 32), np.concatenate([ [X_test[day][24,0]], np.squeeze(predictions[day])]), 'b-', label = 'Predicted (next 7 days)')\n",
    "\n",
    "\n",
    "plt.axvline(x=24, c = 'r')\n",
    "plt.plot(24, X_test[day][24,0], 'rx', markersize = 20, label = \"Today\")\n",
    "plt.xticks(range(0, 37), range(-24, 8))\n",
    "plt.title('Test data with labels')\n",
    "plt.xlabel('Days')\n",
    "plt.ylabel('Google Stock Close price Normalized')\n",
    "plt.legend()\n",
    "plt.show()"
   ]
  },
  {
   "cell_type": "code",
   "execution_count": null,
   "metadata": {},
   "outputs": [],
   "source": []
  }
 ],
 "metadata": {
  "kernelspec": {
   "display_name": "Python 3",
   "language": "python",
   "name": "python3"
  },
  "language_info": {
   "codemirror_mode": {
    "name": "ipython",
    "version": 3
   },
   "file_extension": ".py",
   "mimetype": "text/x-python",
   "name": "python",
   "nbconvert_exporter": "python",
   "pygments_lexer": "ipython3",
   "version": "3.6.1"
  }
 },
 "nbformat": 4,
 "nbformat_minor": 2
}
